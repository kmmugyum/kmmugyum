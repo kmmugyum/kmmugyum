{
  "nbformat": 4,
  "nbformat_minor": 0,
  "metadata": {
    "colab": {
      "name": "Untitled8.ipynb",
      "provenance": [],
      "collapsed_sections": [],
      "authorship_tag": "ABX9TyOt6ftSCMNckyCBUFm19BpW",
      "include_colab_link": true
    },
    "kernelspec": {
      "name": "python3",
      "display_name": "Python 3"
    },
    "language_info": {
      "name": "python"
    }
  },
  "cells": [
    {
      "cell_type": "markdown",
      "metadata": {
        "id": "view-in-github",
        "colab_type": "text"
      },
      "source": [
        "<a href=\"https://colab.research.google.com/github/kmmugyum/kmmugyum/blob/main/Untitled8.ipynb\" target=\"_parent\"><img src=\"https://colab.research.google.com/assets/colab-badge.svg\" alt=\"Open In Colab\"/></a>"
      ]
    },
    {
      "cell_type": "code",
      "execution_count": 15,
      "metadata": {
        "colab": {
          "base_uri": "https://localhost:8080/"
        },
        "id": "86M9ifr6V2Zr",
        "outputId": "af7d5b13-3940-4591-fbf4-4c301d33cdcf"
      },
      "outputs": [
        {
          "output_type": "stream",
          "name": "stdout",
          "text": [
            "17\n",
            "15\n",
            "[2, 1]\n"
          ]
        }
      ],
      "source": [
        "rlist = []\n",
        "a = int(input())\n",
        "b = int(input())\n",
        "\n",
        "def mod():\n",
        "  global a,b,rlist\n",
        "  rlist.append(a%b)\n",
        "  temp = a%b\n",
        "  a = b\n",
        "  b = temp\n",
        "  return b\n",
        "\n",
        "while mod() != 0:\n",
        "  pass\n",
        "\n",
        "print(rlist[:len(rlist)-1])"
      ]
    }
  ]
}